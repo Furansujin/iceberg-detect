{
 "cells": [
  {
   "cell_type": "markdown",
   "metadata": {},
   "source": [
    "### Imports and Read Data"
   ]
  },
  {
   "cell_type": "code",
   "execution_count": 20,
   "metadata": {},
   "outputs": [],
   "source": [
    "import pandas as pd\n",
    "import numpy as np\n",
    "import seaborn as sns\n",
    "import os\n",
    "from sklearn.model_selection import train_test_split\n",
    "from sklearn.preprocessing import scale\n",
    "from keras import backend as K\n",
    "\n",
    "%matplotlib inline"
   ]
  },
  {
   "cell_type": "code",
   "execution_count": 2,
   "metadata": {},
   "outputs": [],
   "source": [
    "df = pd.read_json(os.path.join('input', 'train.json'))"
   ]
  },
  {
   "cell_type": "markdown",
   "metadata": {},
   "source": [
    "### Create Extra Band"
   ]
  },
  {
   "cell_type": "code",
   "execution_count": 46,
   "metadata": {},
   "outputs": [
    {
     "name": "stdout",
     "output_type": "stream",
     "text": [
      "inc_angle already all floats\n"
     ]
    }
   ],
   "source": [
    "import warnings\n",
    "\n",
    "\n",
    "def process_df(df):\n",
    "    # reclassify bands as numpy array\n",
    "    for band in ['band_1', 'band_2']:\n",
    "        df[band] = df[band].apply(np.asarray)\n",
    "    # set band_3 as mean of first two bands\n",
    "    df['band_3'] = (df.band_1 + df.band_2) / 2\n",
    "    with warnings.catch_warnings():\n",
    "        warnings.simplefilter(action='ignore', category=FutureWarning)\n",
    "        try:\n",
    "            # replace 'na' with np.nan\n",
    "            df.loc[df['inc_angle'] == 'na', 'inc_angle'] = np.nan\n",
    "            # reclassify incidence angle as floats\n",
    "            df['inc_angle'] = df['inc_angle'].astype('float64')\n",
    "        except TypeError:\n",
    "            print('inc_angle already all floats')\n",
    "    print('Third band added!')\n",
    "\n",
    "\n",
    "# list of convenience\n",
    "bands = ['band_1', 'band_2', 'band_3']\n",
    "\n",
    "process_df(df)"
   ]
  },
  {
   "cell_type": "code",
   "execution_count": 4,
   "metadata": {},
   "outputs": [
    {
     "data": {
      "text/html": [
       "<div>\n",
       "<style scoped>\n",
       "    .dataframe tbody tr th:only-of-type {\n",
       "        vertical-align: middle;\n",
       "    }\n",
       "\n",
       "    .dataframe tbody tr th {\n",
       "        vertical-align: top;\n",
       "    }\n",
       "\n",
       "    .dataframe thead th {\n",
       "        text-align: right;\n",
       "    }\n",
       "</style>\n",
       "<table border=\"1\" class=\"dataframe\">\n",
       "  <thead>\n",
       "    <tr style=\"text-align: right;\">\n",
       "      <th></th>\n",
       "      <th>band_1</th>\n",
       "      <th>band_2</th>\n",
       "      <th>id</th>\n",
       "      <th>inc_angle</th>\n",
       "      <th>is_iceberg</th>\n",
       "      <th>band_3</th>\n",
       "    </tr>\n",
       "  </thead>\n",
       "  <tbody>\n",
       "    <tr>\n",
       "      <th>1517</th>\n",
       "      <td>[-27.900581, -22.670195, -23.313932, -25.59284...</td>\n",
       "      <td>[-27.176338, -30.526201, -30.526245, -31.05286...</td>\n",
       "      <td>328e68bd</td>\n",
       "      <td>NaN</td>\n",
       "      <td>0</td>\n",
       "      <td>[-27.538459500000002, -26.598198, -26.9200885,...</td>\n",
       "    </tr>\n",
       "  </tbody>\n",
       "</table>\n",
       "</div>"
      ],
      "text/plain": [
       "                                                 band_1  \\\n",
       "1517  [-27.900581, -22.670195, -23.313932, -25.59284...   \n",
       "\n",
       "                                                 band_2        id  inc_angle  \\\n",
       "1517  [-27.176338, -30.526201, -30.526245, -31.05286...  328e68bd        NaN   \n",
       "\n",
       "      is_iceberg                                             band_3  \n",
       "1517           0  [-27.538459500000002, -26.598198, -26.9200885,...  "
      ]
     },
     "execution_count": 4,
     "metadata": {},
     "output_type": "execute_result"
    }
   ],
   "source": [
    "df.sample()"
   ]
  },
  {
   "cell_type": "markdown",
   "metadata": {},
   "source": [
    "### Predicting Missing Incidence Angles"
   ]
  },
  {
   "cell_type": "code",
   "execution_count": 5,
   "metadata": {},
   "outputs": [
    {
     "name": "stdout",
     "output_type": "stream",
     "text": [
      "mode = 34.4721, with count 23\n"
     ]
    },
    {
     "data": {
      "text/plain": [
       "count    1471.000000\n",
       "mean       39.268707\n",
       "std         3.839744\n",
       "min        24.754600\n",
       "25%        36.106100\n",
       "50%        39.501500\n",
       "75%        42.559100\n",
       "max        45.937500\n",
       "Name: inc_angle, dtype: float64"
      ]
     },
     "execution_count": 5,
     "metadata": {},
     "output_type": "execute_result"
    }
   ],
   "source": [
    "from scipy.stats import mode\n",
    "\n",
    "res = mode(df.inc_angle)\n",
    "print('mode = {}, with count {}'.format(res.mode[0], res.count[0]))\n",
    "df.inc_angle.describe()"
   ]
  },
  {
   "cell_type": "code",
   "execution_count": 6,
   "metadata": {},
   "outputs": [],
   "source": [
    "train_df, valid_df = train_test_split(df.fillna(df.inc_angle.mean()), random_state=42, test_size=.1)"
   ]
  },
  {
   "cell_type": "code",
   "execution_count": 7,
   "metadata": {},
   "outputs": [
    {
     "name": "stdout",
     "output_type": "stream",
     "text": [
      "(1443, 75, 75, 3)\n",
      "(161, 75, 75, 3)\n"
     ]
    }
   ],
   "source": [
    "def make_tensors(df):\n",
    "    gen = (np.stack(getattr(df, band)) for band in bands)\n",
    "    flat_tensors = np.stack(gen, axis=-1)\n",
    "    return flat_tensors.reshape(flat_tensors.shape[0], 75, 75, 3)\n",
    "\n",
    "\n",
    "train_tensors = make_tensors(train_df)\n",
    "valid_tensors = make_tensors(valid_df)\n",
    "print(train_tensors.shape)\n",
    "print(valid_tensors.shape)"
   ]
  },
  {
   "cell_type": "code",
   "execution_count": 8,
   "metadata": {},
   "outputs": [
    {
     "name": "stdout",
     "output_type": "stream",
     "text": [
      "(1443,)\n",
      "(161,)\n"
     ]
    }
   ],
   "source": [
    "train_angle = train_df.inc_angle.values\n",
    "valid_angle = valid_df.inc_angle.values\n",
    "print(train_angle.shape)\n",
    "print(valid_angle.shape)"
   ]
  },
  {
   "cell_type": "code",
   "execution_count": 9,
   "metadata": {},
   "outputs": [
    {
     "name": "stdout",
     "output_type": "stream",
     "text": [
      "(1443,)\n",
      "(161,)\n"
     ]
    }
   ],
   "source": [
    "train_targets = train_df.is_iceberg.values\n",
    "valid_targets = valid_df.is_iceberg.values\n",
    "print(train_targets.shape)\n",
    "print(valid_targets.shape)"
   ]
  },
  {
   "cell_type": "code",
   "execution_count": 10,
   "metadata": {},
   "outputs": [],
   "source": [
    "from keras.preprocessing.image import ImageDataGenerator"
   ]
  },
  {
   "cell_type": "code",
   "execution_count": 11,
   "metadata": {},
   "outputs": [],
   "source": [
    "train_datagen = ImageDataGenerator(\n",
    "    featurewise_center=True,\n",
    "    featurewise_std_normalization=True,\n",
    "    horizontal_flip=True,\n",
    "    vertical_flip=True,\n",
    "    width_shift_range=.05, \n",
    "    height_shift_range=.05, \n",
    "    rotation_range=30\n",
    ")\n",
    "\n",
    "test_datagen = ImageDataGenerator(\n",
    "    featurewise_center=True,\n",
    "    featurewise_std_normalization=True\n",
    ")\n",
    "\n",
    "angle_tensors = np.concatenate((train_tensors, valid_tensors))\n",
    "train_datagen.fit(angle_tensors)\n",
    "test_datagen.fit(angle_tensors)"
   ]
  },
  {
   "cell_type": "code",
   "execution_count": 12,
   "metadata": {},
   "outputs": [],
   "source": [
    "def img_and_aux_gen(datagen, tensors, aux_input, targets, shuffle=True):\n",
    "    # https://www.kaggle.com/sinkie/keras-data-augmentation-with-multiple-inputs\n",
    "    if targets is not None:\n",
    "        img_gen = datagen.flow(x=tensors, y=targets, batch_size=batch_size, seed=42, shuffle=shuffle)\n",
    "        aux_gen = datagen.flow(x=np.zeros_like(tensors), y=aux_input, batch_size=batch_size, seed=42, shuffle=shuffle)\n",
    "        while True:\n",
    "            x1, y = next(img_gen)\n",
    "            _, x2 = next(aux_gen)\n",
    "            yield ([x1, x2], y)\n",
    "    else:\n",
    "        img_gen = datagen.flow(x=tensors, y=None, batch_size=1, seed=42, shuffle=False)\n",
    "        aux_gen = (aux for aux in aux_input)\n",
    "        while True:\n",
    "            x1 = next(img_gen)\n",
    "            x2 = next(aux_gen)\n",
    "            yield ([x1, x2], )\n",
    "\n",
    "\n",
    "batch_size = 32\n",
    "epochs = 100\n",
    "\n",
    "train_flow = img_and_aux_gen(train_datagen, train_tensors, train_angle, train_targets)\n",
    "valid_flow = img_and_aux_gen(test_datagen, valid_tensors, valid_angle, valid_targets, shuffle=False)"
   ]
  },
  {
   "cell_type": "code",
   "execution_count": 40,
   "metadata": {},
   "outputs": [],
   "source": [
    "from keras.layers import Conv2D, MaxPooling2D, Dense, GlobalMaxPool2D\n",
    "from keras.layers import Input, Flatten, concatenate\n",
    "from keras.layers import Dropout, BatchNormalization\n",
    "from keras.models import Model\n",
    "from keras.utils import plot_model\n",
    "from keras.callbacks import EarlyStopping, ModelCheckpoint, ReduceLROnPlateau\n",
    "\n",
    "\n",
    "def create_cnn(iceberg_predict=True):\n",
    "    # inputs\n",
    "    radar_img_shape = train_tensors.shape[1:]\n",
    "    radar_input = Input(shape=radar_img_shape, name='radar_image')\n",
    "    aux_input = Input(shape=(1,), name='aux_input')\n",
    "    \n",
    "    # computer vision model for 3-banded radar image\n",
    "    x = BatchNormalization()(radar_input)\n",
    "    x = Conv2D(256, kernel_size=4, padding='same', activation='relu')(x)\n",
    "    x = MaxPooling2D(pool_size=3)(x)\n",
    "    x = Dropout(.25)(x)\n",
    "    x = Conv2D(256, kernel_size=3, padding='same', activation='relu')(x)\n",
    "    x = MaxPooling2D(pool_size=2)(x)\n",
    "    x = Dropout(.25)(x)\n",
    "    for _ in range(2):\n",
    "        x = Conv2D(128, kernel_size=3, padding='same', activation='relu')(x)\n",
    "        x = MaxPooling2D(pool_size=2)(x)\n",
    "        x = Dropout(.25)(x)\n",
    "    radar_output = GlobalMaxPool2D()(x)\n",
    "#     radar_output = Flatten()(x)\n",
    "    \n",
    "    # add auxiliary input and combine into concatenate layer\n",
    "    combined_inputs = concatenate([radar_output, aux_input])\n",
    "    \n",
    "    # feed both into fully-connected layers\n",
    "    x = BatchNormalization()(combined_inputs)\n",
    "    x = Dense(512, activation='relu')(x)\n",
    "    x = Dropout(.25)(x)\n",
    "    x = Dense(256, activation='relu')(x)\n",
    "    x = Dropout(.25)(x)\n",
    "    \n",
    "    # final output\n",
    "    last_act = 'sigmoid' if iceberg_predict else None\n",
    "    last_name = 'is_iceberg' if iceberg_predict else 'inc_angle'\n",
    "    output = Dense(1, activation=last_act, name=last_name)(x)\n",
    "    \n",
    "    # model definition and summary\n",
    "    model = Model(inputs=[radar_input, aux_input], outputs=output)\n",
    "    model.summary()\n",
    "    plot_model(model, to_file='cnn-{}.png'.format('iceberg' if iceberg_predict else 'angle'))\n",
    "    \n",
    "    return model\n",
    "\n",
    "\n",
    "def create_callbacks(iceberg_predict=True):\n",
    "    # save best model checkpoint\n",
    "    cnn_name = 'cnn.{}.best.weights.hdf5'.format('ice' if iceberg_predict else 'angle')\n",
    "    save_best = ModelCheckpoint(filepath=os.path.join('saved_models', cnn_name), \n",
    "                                save_best_only=True, save_weights_only=True, verbose=1)\n",
    "    # early stopping \n",
    "    early_stop = EarlyStopping(monitor='val_loss', verbose=1, patience=5)\n",
    "    \n",
    "    # reduce learning rate on plateau\n",
    "    reduce_lr = ReduceLROnPlateau(monitor='val_loss', factor=0.1, patience=2, verbose=0)\n",
    "    \n",
    "    return {'early_stop': early_stop, 'save_best': save_best, 'reduce_lr': reduce_lr}"
   ]
  },
  {
   "cell_type": "code",
   "execution_count": 42,
   "metadata": {
    "scrolled": false
   },
   "outputs": [
    {
     "name": "stdout",
     "output_type": "stream",
     "text": [
      "____________________________________________________________________________________________________\n",
      "Layer (type)                     Output Shape          Param #     Connected to                     \n",
      "====================================================================================================\n",
      "radar_image (InputLayer)         (None, 75, 75, 3)     0                                            \n",
      "____________________________________________________________________________________________________\n",
      "batch_normalization_3 (BatchNorm (None, 75, 75, 3)     12          radar_image[0][0]                \n",
      "____________________________________________________________________________________________________\n",
      "conv2d_15 (Conv2D)               (None, 75, 75, 256)   12544       batch_normalization_3[0][0]      \n",
      "____________________________________________________________________________________________________\n",
      "max_pooling2d_13 (MaxPooling2D)  (None, 25, 25, 256)   0           conv2d_15[0][0]                  \n",
      "____________________________________________________________________________________________________\n",
      "dropout_19 (Dropout)             (None, 25, 25, 256)   0           max_pooling2d_13[0][0]           \n",
      "____________________________________________________________________________________________________\n",
      "conv2d_16 (Conv2D)               (None, 25, 25, 256)   590080      dropout_19[0][0]                 \n",
      "____________________________________________________________________________________________________\n",
      "max_pooling2d_14 (MaxPooling2D)  (None, 12, 12, 256)   0           conv2d_16[0][0]                  \n",
      "____________________________________________________________________________________________________\n",
      "dropout_20 (Dropout)             (None, 12, 12, 256)   0           max_pooling2d_14[0][0]           \n",
      "____________________________________________________________________________________________________\n",
      "conv2d_17 (Conv2D)               (None, 12, 12, 128)   295040      dropout_20[0][0]                 \n",
      "____________________________________________________________________________________________________\n",
      "max_pooling2d_15 (MaxPooling2D)  (None, 6, 6, 128)     0           conv2d_17[0][0]                  \n",
      "____________________________________________________________________________________________________\n",
      "dropout_21 (Dropout)             (None, 6, 6, 128)     0           max_pooling2d_15[0][0]           \n",
      "____________________________________________________________________________________________________\n",
      "conv2d_18 (Conv2D)               (None, 6, 6, 128)     147584      dropout_21[0][0]                 \n",
      "____________________________________________________________________________________________________\n",
      "max_pooling2d_16 (MaxPooling2D)  (None, 3, 3, 128)     0           conv2d_18[0][0]                  \n",
      "____________________________________________________________________________________________________\n",
      "dropout_22 (Dropout)             (None, 3, 3, 128)     0           max_pooling2d_16[0][0]           \n",
      "____________________________________________________________________________________________________\n",
      "global_max_pooling2d_4 (GlobalMa (None, 128)           0           dropout_22[0][0]                 \n",
      "____________________________________________________________________________________________________\n",
      "aux_input (InputLayer)           (None, 1)             0                                            \n",
      "____________________________________________________________________________________________________\n",
      "concatenate_4 (Concatenate)      (None, 129)           0           global_max_pooling2d_4[0][0]     \n",
      "                                                                   aux_input[0][0]                  \n",
      "____________________________________________________________________________________________________\n",
      "batch_normalization_4 (BatchNorm (None, 129)           516         concatenate_4[0][0]              \n",
      "____________________________________________________________________________________________________\n",
      "dense_7 (Dense)                  (None, 512)           66560       batch_normalization_4[0][0]      \n",
      "____________________________________________________________________________________________________\n",
      "dropout_23 (Dropout)             (None, 512)           0           dense_7[0][0]                    \n",
      "____________________________________________________________________________________________________\n",
      "dense_8 (Dense)                  (None, 256)           131328      dropout_23[0][0]                 \n",
      "____________________________________________________________________________________________________\n",
      "dropout_24 (Dropout)             (None, 256)           0           dense_8[0][0]                    \n",
      "____________________________________________________________________________________________________\n",
      "is_iceberg (Dense)               (None, 1)             257         dropout_24[0][0]                 \n",
      "====================================================================================================\n",
      "Total params: 1,243,921\n",
      "Trainable params: 1,243,657\n",
      "Non-trainable params: 264\n",
      "____________________________________________________________________________________________________\n"
     ]
    }
   ],
   "source": [
    "icebergs = True\n",
    "if icebergs:\n",
    "    compile_kwargs = {'loss': 'binary_crossentropy', 'optimizer': 'adam', 'metrics': ['accuracy']}\n",
    "else:\n",
    "    compile_kwargs = {'loss': 'mse', 'optimizer': 'adam', 'metrics': ['mae']}\n",
    "model = create_cnn(iceberg_predict=icebergs)\n",
    "model.compile(**compile_kwargs)\n",
    "callbacks = create_callbacks(iceberg_predict=icebergs)"
   ]
  },
  {
   "cell_type": "code",
   "execution_count": 43,
   "metadata": {},
   "outputs": [
    {
     "name": "stdout",
     "output_type": "stream",
     "text": [
      "Train on 1443 samples, validate on 161 samples\n",
      "Epoch 1/100\n",
      "1440/1443 [============================>.] - ETA: 0s - loss: 0.6576 - acc: 0.6056Epoch 00000: val_loss improved from inf to 9.00288, saving model to saved_models/cnn.ice.best.weights.hdf5\n",
      "1443/1443 [==============================] - 135s - loss: 0.6573 - acc: 0.6057 - val_loss: 9.0029 - val_acc: 0.4410\n",
      "Epoch 2/100\n",
      "1440/1443 [============================>.] - ETA: 0s - loss: 0.6109 - acc: 0.6264Epoch 00001: val_loss improved from 9.00288 to 0.59799, saving model to saved_models/cnn.ice.best.weights.hdf5\n",
      "1443/1443 [==============================] - 132s - loss: 0.6110 - acc: 0.6258 - val_loss: 0.5980 - val_acc: 0.6957\n",
      "Epoch 3/100\n",
      "1440/1443 [============================>.] - ETA: 0s - loss: 0.5933 - acc: 0.6229Epoch 00002: val_loss did not improve\n",
      "1443/1443 [==============================] - 132s - loss: 0.5934 - acc: 0.6230 - val_loss: 0.6961 - val_acc: 0.4720\n",
      "Epoch 4/100\n",
      "1440/1443 [============================>.] - ETA: 0s - loss: 0.5465 - acc: 0.6778Epoch 00003: val_loss did not improve\n",
      "1443/1443 [==============================] - 133s - loss: 0.5467 - acc: 0.6771 - val_loss: 0.6132 - val_acc: 0.5404\n",
      "Epoch 5/100\n",
      "1440/1443 [============================>.] - ETA: 0s - loss: 0.4921 - acc: 0.7160Epoch 00004: val_loss improved from 0.59799 to 0.54641, saving model to saved_models/cnn.ice.best.weights.hdf5\n",
      "1443/1443 [==============================] - 132s - loss: 0.4913 - acc: 0.7166 - val_loss: 0.5464 - val_acc: 0.7329\n",
      "Epoch 6/100\n",
      "1440/1443 [============================>.] - ETA: 0s - loss: 0.4306 - acc: 0.7792Epoch 00005: val_loss improved from 0.54641 to 0.47451, saving model to saved_models/cnn.ice.best.weights.hdf5\n",
      "1443/1443 [==============================] - 132s - loss: 0.4304 - acc: 0.7789 - val_loss: 0.4745 - val_acc: 0.7950\n",
      "Epoch 7/100\n",
      "1440/1443 [============================>.] - ETA: 0s - loss: 0.4247 - acc: 0.7951Epoch 00006: val_loss improved from 0.47451 to 0.46014, saving model to saved_models/cnn.ice.best.weights.hdf5\n",
      "1443/1443 [==============================] - 132s - loss: 0.4249 - acc: 0.7949 - val_loss: 0.4601 - val_acc: 0.7950\n",
      "Epoch 8/100\n",
      "1440/1443 [============================>.] - ETA: 0s - loss: 0.3590 - acc: 0.8313Epoch 00007: val_loss did not improve\n",
      "1443/1443 [==============================] - 131s - loss: 0.3608 - acc: 0.8302 - val_loss: 0.5461 - val_acc: 0.6522\n",
      "Epoch 9/100\n",
      "1440/1443 [============================>.] - ETA: 0s - loss: 0.3850 - acc: 0.8181Epoch 00008: val_loss improved from 0.46014 to 0.38134, saving model to saved_models/cnn.ice.best.weights.hdf5\n",
      "1443/1443 [==============================] - 132s - loss: 0.3881 - acc: 0.8170 - val_loss: 0.3813 - val_acc: 0.8323\n",
      "Epoch 10/100\n",
      "1440/1443 [============================>.] - ETA: 0s - loss: 0.3761 - acc: 0.8347Epoch 00009: val_loss improved from 0.38134 to 0.30966, saving model to saved_models/cnn.ice.best.weights.hdf5\n",
      "1443/1443 [==============================] - 131s - loss: 0.3789 - acc: 0.8344 - val_loss: 0.3097 - val_acc: 0.8634\n",
      "Epoch 11/100\n",
      "1440/1443 [============================>.] - ETA: 0s - loss: 0.3327 - acc: 0.8451Epoch 00010: val_loss did not improve\n",
      "1443/1443 [==============================] - 132s - loss: 0.3336 - acc: 0.8448 - val_loss: 0.3184 - val_acc: 0.8882\n",
      "Epoch 12/100\n",
      "1408/1443 [============================>.] - ETA: 3s - loss: 0.3499 - acc: 0.8423Epoch 00011: val_loss improved from 0.30966 to 0.28130, saving model to saved_models/cnn.ice.best.weights.hdf5\n",
      "1443/1443 [==============================] - 122s - loss: 0.3506 - acc: 0.8406 - val_loss: 0.2813 - val_acc: 0.8820\n",
      "Epoch 13/100\n",
      "1440/1443 [============================>.] - ETA: 0s - loss: 0.2936 - acc: 0.8688Epoch 00012: val_loss did not improve\n",
      "1443/1443 [==============================] - 132s - loss: 0.2959 - acc: 0.8683 - val_loss: 0.2970 - val_acc: 0.8882\n",
      "Epoch 14/100\n",
      "1440/1443 [============================>.] - ETA: 0s - loss: 0.3515 - acc: 0.8194Epoch 00013: val_loss did not improve\n",
      "1443/1443 [==============================] - 131s - loss: 0.3522 - acc: 0.8191 - val_loss: 0.5517 - val_acc: 0.7764\n",
      "Epoch 15/100\n",
      "1440/1443 [============================>.] - ETA: 0s - loss: 0.3361 - acc: 0.8424Epoch 00014: val_loss did not improve\n",
      "1443/1443 [==============================] - 131s - loss: 0.3387 - acc: 0.8420 - val_loss: 0.5015 - val_acc: 0.7640\n",
      "Epoch 16/100\n",
      "1440/1443 [============================>.] - ETA: 0s - loss: 0.3082 - acc: 0.8646Epoch 00015: val_loss did not improve\n",
      "1443/1443 [==============================] - 132s - loss: 0.3088 - acc: 0.8642 - val_loss: 0.2931 - val_acc: 0.8634\n",
      "Epoch 17/100\n",
      "1440/1443 [============================>.] - ETA: 0s - loss: 0.2822 - acc: 0.8750Epoch 00016: val_loss improved from 0.28130 to 0.28096, saving model to saved_models/cnn.ice.best.weights.hdf5\n",
      "1443/1443 [==============================] - 131s - loss: 0.2829 - acc: 0.8746 - val_loss: 0.2810 - val_acc: 0.8820\n",
      "Epoch 18/100\n",
      "1440/1443 [============================>.] - ETA: 0s - loss: 0.2689 - acc: 0.8757Epoch 00017: val_loss did not improve\n",
      "1443/1443 [==============================] - 131s - loss: 0.2686 - acc: 0.8760 - val_loss: 0.2838 - val_acc: 0.8820\n",
      "Epoch 19/100\n",
      "1440/1443 [============================>.] - ETA: 0s - loss: 0.2636 - acc: 0.8729Epoch 00018: val_loss did not improve\n",
      "1443/1443 [==============================] - 131s - loss: 0.2631 - acc: 0.8732 - val_loss: 0.2817 - val_acc: 0.8944\n",
      "Epoch 20/100\n",
      "1440/1443 [============================>.] - ETA: 0s - loss: 0.2719 - acc: 0.8715Epoch 00019: val_loss did not improve\n",
      "1443/1443 [==============================] - 131s - loss: 0.2737 - acc: 0.8704 - val_loss: 0.2841 - val_acc: 0.9130\n",
      "Epoch 21/100\n",
      "1440/1443 [============================>.] - ETA: 0s - loss: 0.2471 - acc: 0.9021Epoch 00020: val_loss did not improve\n",
      "1443/1443 [==============================] - 131s - loss: 0.2467 - acc: 0.9023 - val_loss: 0.2841 - val_acc: 0.9130\n",
      "Epoch 22/100\n",
      "1440/1443 [============================>.] - ETA: 0s - loss: 0.2548 - acc: 0.8792Epoch 00021: val_loss did not improve\n",
      "1443/1443 [==============================] - 132s - loss: 0.2558 - acc: 0.8787 - val_loss: 0.2830 - val_acc: 0.9130\n",
      "Epoch 23/100\n",
      "1440/1443 [============================>.] - ETA: 0s - loss: 0.2687 - acc: 0.8764Epoch 00022: val_loss did not improve\n",
      "1443/1443 [==============================] - 132s - loss: 0.2684 - acc: 0.8766 - val_loss: 0.2815 - val_acc: 0.9068\n",
      "Epoch 00022: early stopping\n"
     ]
    },
    {
     "data": {
      "text/plain": [
       "<keras.callbacks.History at 0x1a684f63c8>"
      ]
     },
     "execution_count": 43,
     "metadata": {},
     "output_type": "execute_result"
    }
   ],
   "source": [
    "# model.fit_generator(train_flow, steps_per_epoch=(len(train_targets)*2)/batch_size,\n",
    "#                     epochs=epochs,\n",
    "#                     validation_data=valid_flow, \n",
    "#                     validation_steps=len(valid_targets)/batch_size,\n",
    "#                     callbacks=list(callbacks.values()))\n",
    "\n",
    "model.fit([train_tensors, train_angle], train_targets, epochs=epochs, callbacks=list(callbacks.values()), \n",
    "          validation_data=([valid_tensors, valid_angle], valid_targets))"
   ]
  },
  {
   "cell_type": "code",
   "execution_count": 44,
   "metadata": {
    "scrolled": true
   },
   "outputs": [],
   "source": [
    "model.load_weights(os.path.join('saved_models', 'cnn.{}.best.weights.hdf5'.format('ice' if icebergs else 'angle')))"
   ]
  },
  {
   "cell_type": "markdown",
   "metadata": {},
   "source": [
    "### Running on Test Data"
   ]
  },
  {
   "cell_type": "code",
   "execution_count": 45,
   "metadata": {},
   "outputs": [],
   "source": [
    "test_df = pd.read_json(os.path.join('input', 'test.json'))"
   ]
  },
  {
   "cell_type": "code",
   "execution_count": 47,
   "metadata": {},
   "outputs": [
    {
     "name": "stdout",
     "output_type": "stream",
     "text": [
      "inc_angle already all floats\n"
     ]
    }
   ],
   "source": [
    "process_df(test_df)"
   ]
  },
  {
   "cell_type": "code",
   "execution_count": 48,
   "metadata": {},
   "outputs": [],
   "source": [
    "test_tensors = make_tensors(test_df)\n",
    "test_angle = test_df.inc_angle.values"
   ]
  },
  {
   "cell_type": "code",
   "execution_count": 49,
   "metadata": {},
   "outputs": [],
   "source": [
    "# new_test_gen = ImageDataGenerator(featurewise_center=True, featurewise_std_normalization=True)\n",
    "# new_test_gen.fit(angle_tensors)\n",
    "\n",
    "preds = model.predict([test_tensors, test_angle])\n",
    "# test_flow = img_and_aux_gen(test_datagen, test_tensors, test_angle, None)\n",
    "# preds = model.predict_generator(test_flow, len(test_tensors))"
   ]
  },
  {
   "cell_type": "code",
   "execution_count": 50,
   "metadata": {},
   "outputs": [
    {
     "data": {
      "text/plain": [
       "array([[9.3300074e-02],\n",
       "       [4.8548669e-01],\n",
       "       [9.0579729e-04],\n",
       "       [9.8239303e-01],\n",
       "       [1.3379075e-01]], dtype=float32)"
      ]
     },
     "execution_count": 50,
     "metadata": {},
     "output_type": "execute_result"
    }
   ],
   "source": [
    "preds[:5]"
   ]
  },
  {
   "cell_type": "code",
   "execution_count": 52,
   "metadata": {},
   "outputs": [
    {
     "data": {
      "image/png": "[encoded data removed]",
      "text/plain": [
       "<matplotlib.figure.Figure at 0x1a605ea208>"
      ]
     },
     "metadata": {},
     "output_type": "display_data"
    }
   ],
   "source": [
    "x_label = 'iceberg probability' if icebergs else 'incidence angle'\n",
    "ax = sns.distplot(preds, axlabel=x_label, label='TEST')"
   ]
  },
  {
   "cell_type": "markdown",
   "metadata": {},
   "source": [
    "### Package submission"
   ]
  },
  {
   "cell_type": "code",
   "execution_count": 54,
   "metadata": {},
   "outputs": [
    {
     "data": {
      "text/html": [
       "<div>\n",
       "<style scoped>\n",
       "    .dataframe tbody tr th:only-of-type {\n",
       "        vertical-align: middle;\n",
       "    }\n",
       "\n",
       "    .dataframe tbody tr th {\n",
       "        vertical-align: top;\n",
       "    }\n",
       "\n",
       "    .dataframe thead th {\n",
       "        text-align: right;\n",
       "    }\n",
       "</style>\n",
       "<table border=\"1\" class=\"dataframe\">\n",
       "  <thead>\n",
       "    <tr style=\"text-align: right;\">\n",
       "      <th></th>\n",
       "      <th>id</th>\n",
       "      <th>is_iceberg</th>\n",
       "    </tr>\n",
       "  </thead>\n",
       "  <tbody>\n",
       "    <tr>\n",
       "      <th>0</th>\n",
       "      <td>5941774d</td>\n",
       "      <td>0.093300</td>\n",
       "    </tr>\n",
       "    <tr>\n",
       "      <th>1</th>\n",
       "      <td>4023181e</td>\n",
       "      <td>0.485487</td>\n",
       "    </tr>\n",
       "    <tr>\n",
       "      <th>2</th>\n",
       "      <td>b20200e4</td>\n",
       "      <td>0.000906</td>\n",
       "    </tr>\n",
       "    <tr>\n",
       "      <th>3</th>\n",
       "      <td>e7f018bb</td>\n",
       "      <td>0.982393</td>\n",
       "    </tr>\n",
       "    <tr>\n",
       "      <th>4</th>\n",
       "      <td>4371c8c3</td>\n",
       "      <td>0.133791</td>\n",
       "    </tr>\n",
       "    <tr>\n",
       "      <th>5</th>\n",
       "      <td>a8d9b1fd</td>\n",
       "      <td>0.976776</td>\n",
       "    </tr>\n",
       "    <tr>\n",
       "      <th>6</th>\n",
       "      <td>29e7727e</td>\n",
       "      <td>0.146508</td>\n",
       "    </tr>\n",
       "    <tr>\n",
       "      <th>7</th>\n",
       "      <td>92a51ffb</td>\n",
       "      <td>0.994449</td>\n",
       "    </tr>\n",
       "    <tr>\n",
       "      <th>8</th>\n",
       "      <td>c769ac97</td>\n",
       "      <td>0.472969</td>\n",
       "    </tr>\n",
       "    <tr>\n",
       "      <th>9</th>\n",
       "      <td>aee0547d</td>\n",
       "      <td>0.011715</td>\n",
       "    </tr>\n",
       "  </tbody>\n",
       "</table>\n",
       "</div>"
      ],
      "text/plain": [
       "         id  is_iceberg\n",
       "0  5941774d    0.093300\n",
       "1  4023181e    0.485487\n",
       "2  b20200e4    0.000906\n",
       "3  e7f018bb    0.982393\n",
       "4  4371c8c3    0.133791\n",
       "5  a8d9b1fd    0.976776\n",
       "6  29e7727e    0.146508\n",
       "7  92a51ffb    0.994449\n",
       "8  c769ac97    0.472969\n",
       "9  aee0547d    0.011715"
      ]
     },
     "execution_count": 54,
     "metadata": {},
     "output_type": "execute_result"
    }
   ],
   "source": [
    "submission = pd.DataFrame({'id': test_df.id, 'is_iceberg': preds.reshape(preds.shape[0])})\n",
    "submission.head(10)"
   ]
  },
  {
   "cell_type": "code",
   "execution_count": 55,
   "metadata": {},
   "outputs": [],
   "source": [
    "submission.to_csv(os.path.join('output', 'batch_norm_cnn.csv'), index=False)"
   ]
  }
 ],
 "metadata": {
  "kernelspec": {
   "display_name": "Python 3",
   "language": "python",
   "name": "python3"
  },
  "language_info": {
   "codemirror_mode": {
    "name": "ipython",
    "version": 3
   },
   "file_extension": ".py",
   "mimetype": "text/x-python",
   "name": "python",
   "nbconvert_exporter": "python",
   "pygments_lexer": "ipython3",
   "version": "3.6.4"
  }
 },
 "nbformat": 4,
 "nbformat_minor": 1
}
