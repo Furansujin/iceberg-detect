{
 "cells": [
  {
   "cell_type": "code",
   "execution_count": 128,
   "metadata": {},
   "outputs": [],
   "source": [
    "import pandas as pd\n",
    "import numpy as np\n",
    "import os\n",
    "from sklearn.model_selection import train_test_split\n",
    "from keras import backend as K"
   ]
  },
  {
   "cell_type": "code",
   "execution_count": 2,
   "metadata": {},
   "outputs": [],
   "source": [
    "df = pd.read_json(os.path.join('input', 'train.json'))"
   ]
  },
  {
   "cell_type": "code",
   "execution_count": 3,
   "metadata": {},
   "outputs": [],
   "source": [
    "def make_radar_image_tensor(df_itertup):\n",
    "    b1 = np.array(df_itertup.band_1).reshape(75, 75)\n",
    "    b2 = np.array(df_itertup.band_2).reshape(75, 75)\n",
    "    b3 = (b1 + b2) / 2\n",
    "    return np.expand_dims(np.stack([b1, b2, b3], axis=-1), axis=0)\n",
    "\n",
    "\n",
    "def prepare_4d_tensors(df):\n",
    "    return np.vstack(make_radar_image_tensor(row) for row in df.itertuples())"
   ]
  },
  {
   "cell_type": "code",
   "execution_count": 182,
   "metadata": {},
   "outputs": [],
   "source": [
    "from sklearn.preprocessing import scale\n",
    "\n",
    "\n",
    "def flat_band_radar_tensors(df_itertup):\n",
    "    b1 = np.array(df_itertup.band_1)\n",
    "    b2 = np.array(df_itertup.band_2)\n",
    "    b3 = (b1 + b2) / 2\n",
    "    flat_img = np.stack([scale(x) for x in (b1, b2, b3)], axis=-1).flatten()\n",
    "    return np.expand_dims(flat_img, axis=0).astype('float32', copy=False)\n",
    "\n",
    "\n",
    "def prepare_4d_tensors_flat(df):\n",
    "    return np.vstack(flat_band_radar_tensors(row) for row in df.itertuples())"
   ]
  },
  {
   "cell_type": "code",
   "execution_count": 183,
   "metadata": {},
   "outputs": [
    {
     "name": "stdout",
     "output_type": "stream",
     "text": [
      "TRAIN\n",
      "-----\n",
      "(1103, 16875)\n",
      "(1103,)\n",
      "51.13% icebergs\n",
      "\n",
      "VALIDATION\n",
      "-----\n",
      "(368, 16875)\n",
      "(368,)\n",
      "51.36% icebergs\n"
     ]
    }
   ],
   "source": [
    "# we drop the missing incidence angles for the base model NN\n",
    "df_missing = df[df.inc_angle != 'na']\n",
    "\n",
    "train_df, valid_df = train_test_split(df_missing, random_state=42, test_size=.25)\n",
    "\n",
    "print('TRAIN\\n-----')\n",
    "train_tensors = prepare_4d_tensors_flat(train_df)\n",
    "print(train_tensors.shape)\n",
    "train_targets = train_df.is_iceberg\n",
    "print(train_targets.shape)\n",
    "print('{:.2f}% icebergs'.format((train_targets == 1).sum() / len(train_targets) * 100))\n",
    "\n",
    "print('\\nVALIDATION\\n-----')\n",
    "valid_tensors = prepare_4d_tensors_flat(valid_df)\n",
    "print(valid_tensors.shape)\n",
    "valid_targets = valid_df.is_iceberg\n",
    "print(valid_targets.shape)\n",
    "print('{:.2f}% icebergs'.format((valid_targets == 1).sum() / len(valid_targets) * 100))"
   ]
  },
  {
   "cell_type": "heading",
   "level": 2,
   "metadata": {},
   "source": [
    "Naive Neural Network"
   ]
  },
  {
   "cell_type": "markdown",
   "metadata": {},
   "source": [
    "Here we create a fully connected neural network, aka a multi-layer perceptron, as a baseline model to compare our convolutional neural network's performance."
   ]
  },
  {
   "cell_type": "code",
   "execution_count": 184,
   "metadata": {},
   "outputs": [
    {
     "name": "stdout",
     "output_type": "stream",
     "text": [
      "_________________________________________________________________\n",
      "Layer (type)                 Output Shape              Param #   \n",
      "=================================================================\n",
      "dense_104 (Dense)            (None, 1024)              17281024  \n",
      "_________________________________________________________________\n",
      "dense_105 (Dense)            (None, 64)                65600     \n",
      "_________________________________________________________________\n",
      "dense_106 (Dense)            (None, 1)                 65        \n",
      "=================================================================\n",
      "Total params: 17,346,689\n",
      "Trainable params: 17,346,689\n",
      "Non-trainable params: 0\n",
      "_________________________________________________________________\n"
     ]
    }
   ],
   "source": [
    "from keras.layers import Dense, Flatten, Dropout\n",
    "from keras.models import Sequential \n",
    "# from keras.layers import Dropout, BatchNormalization\n",
    "# from keras.models import Model, Sequential, Input\n",
    "\n",
    "dense_model = Sequential()\n",
    "\n",
    "dense_model.add(Dense(1024, activation='relu', input_shape=train_tensors.shape[1:]))\n",
    "dense_model.add(Dense(64, activation='relu'))\n",
    "dense_model.add(Dense(1, activation='sigmoid'))\n",
    "\n",
    "dense_model.summary()\n",
    "\n"
   ]
  },
  {
   "cell_type": "code",
   "execution_count": 186,
   "metadata": {},
   "outputs": [],
   "source": [
    "from keras.callbacks import EarlyStopping, ModelCheckpoint, ReduceLROnPlateau\n",
    "\n",
    "early_stop = EarlyStopping(monitor='val_loss', verbose=1, patience=5)\n",
    "save_best = ModelCheckpoint(filepath=os.path.join('saved_models', 'naive.nn.best.weights.hdf5'), \n",
    "                            save_best_only=True, save_weights_only=True)\n",
    "reduce_lr = ReduceLROnPlateau(monitor='val_loss', factor=0.1,\n",
    "                              patience=2, min_lr=0.000000001, verbose=1)\n",
    "\n",
    "epochs = 50"
   ]
  },
  {
   "cell_type": "code",
   "execution_count": 187,
   "metadata": {},
   "outputs": [],
   "source": [
    "from keras.optimizers import Adam\n",
    "\n",
    "opt = Adam(.0001)\n",
    "dense_model.compile(loss='binary_crossentropy', optimizer='adam', metrics=['accuracy'])"
   ]
  },
  {
   "cell_type": "code",
   "execution_count": 188,
   "metadata": {},
   "outputs": [
    {
     "name": "stdout",
     "output_type": "stream",
     "text": [
      "Train on 1103 samples, validate on 368 samples\n",
      "Epoch 1/50\n",
      "1103/1103 [==============================] - 29s - loss: 0.9802 - acc: 0.6510 - val_loss: 0.5630 - val_acc: 0.7473\n",
      "Epoch 2/50\n",
      "1103/1103 [==============================] - 24s - loss: 0.1734 - acc: 0.9347 - val_loss: 0.5395 - val_acc: 0.7717\n",
      "Epoch 3/50\n",
      "1103/1103 [==============================] - 23s - loss: 0.0348 - acc: 0.9918 - val_loss: 0.5447 - val_acc: 0.7989\n",
      "Epoch 4/50\n",
      "1103/1103 [==============================] - 24s - loss: 0.0079 - acc: 0.9982 - val_loss: 0.6689 - val_acc: 0.7609\n",
      "Epoch 5/50\n",
      "1088/1103 [============================>.] - ETA: 0s - loss: 0.0024 - acc: 1.0000\n",
      "Epoch 00004: reducing learning rate to 0.0001.\n",
      "1103/1103 [==============================] - 24s - loss: 0.0024 - acc: 1.0000 - val_loss: 0.6173 - val_acc: 0.7853\n",
      "Epoch 6/50\n",
      "1103/1103 [==============================] - 24s - loss: 0.0012 - acc: 1.0000 - val_loss: 0.6230 - val_acc: 0.7853\n",
      "Epoch 7/50\n",
      "1088/1103 [============================>.] - ETA: 0s - loss: 0.0012 - acc: 1.0000\n",
      "Epoch 00006: reducing learning rate to 1e-05.\n",
      "1103/1103 [==============================] - 23s - loss: 0.0011 - acc: 1.0000 - val_loss: 0.6291 - val_acc: 0.7826\n",
      "Epoch 8/50\n",
      "1103/1103 [==============================] - 23s - loss: 0.0011 - acc: 1.0000 - val_loss: 0.6296 - val_acc: 0.7826\n",
      "Epoch 00007: early stopping\n"
     ]
    },
    {
     "data": {
      "text/plain": [
       "<keras.callbacks.History at 0x1abbf1a780>"
      ]
     },
     "execution_count": 188,
     "metadata": {},
     "output_type": "execute_result"
    }
   ],
   "source": [
    "dense_model.fit(train_tensors, train_targets, epochs=epochs,\n",
    "                callbacks=[early_stop, save_best, reduce_lr], verbose=1,\n",
    "                validation_data=(valid_tensors, valid_targets))"
   ]
  },
  {
   "cell_type": "code",
   "execution_count": 189,
   "metadata": {},
   "outputs": [],
   "source": [
    "dense_model.load_weights(os.path.join('saved_models', 'naive.nn.best.weights.hdf5'))"
   ]
  },
  {
   "cell_type": "code",
   "execution_count": 45,
   "metadata": {},
   "outputs": [],
   "source": [
    "test_df = pd.read_json(os.path.join('input', 'test.json'))"
   ]
  },
  {
   "cell_type": "code",
   "execution_count": 191,
   "metadata": {},
   "outputs": [],
   "source": [
    "test_tensors = prepare_4d_tensors_flat(test_df)"
   ]
  },
  {
   "cell_type": "code",
   "execution_count": 209,
   "metadata": {},
   "outputs": [],
   "source": [
    "preds = dense_model.predict(test_tensors)"
   ]
  },
  {
   "cell_type": "code",
   "execution_count": 211,
   "metadata": {},
   "outputs": [
    {
     "data": {
      "text/plain": [
       "array([[0.37295367],\n",
       "       [0.99700917],\n",
       "       [0.02207718],\n",
       "       ...,\n",
       "       [0.09252361],\n",
       "       [0.99807723],\n",
       "       [0.1620191 ]])"
      ]
     },
     "execution_count": 210,
     "metadata": {},
     "output_type": "execute_result"
    }
   ],
   "source": [
    "preds"
   ]
  },
  {
   "cell_type": "code",
   "execution_count": 212,
   "metadata": {},
   "outputs": [
    {
     "data": {
      "text/plain": [
       "<matplotlib.axes._subplots.AxesSubplot at 0x1a986f5048>"
      ]
     },
     "execution_count": 212,
     "metadata": {},
     "output_type": "execute_result"
    },
    {
     "data": {
      "image/png": "[encoded data removed]",
      "text/plain": [
       "<matplotlib.figure.Figure at 0x1ac0df5630>"
      ]
     },
     "metadata": {},
     "output_type": "display_data"
    }
   ],
   "source": [
    "import seaborn as sns\n",
    "%matplotlib inline\n",
    "\n",
    "sns.distplot(preds)"
   ]
  },
  {
   "cell_type": "code",
   "execution_count": 216,
   "metadata": {},
   "outputs": [
    {
     "name": "stdout",
     "output_type": "stream",
     "text": [
      "         id  is_iceberg\n",
      "0  5941774d    0.372954\n",
      "1  4023181e    0.997009\n",
      "2  b20200e4    0.022077\n",
      "3  e7f018bb    0.908457\n",
      "4  4371c8c3    0.884210\n",
      "5  a8d9b1fd    0.652523\n",
      "6  29e7727e    0.715507\n",
      "7  92a51ffb    0.980417\n",
      "8  c769ac97    0.002827\n",
      "9  aee0547d    0.013368\n"
     ]
    }
   ],
   "source": [
    "submission = pd.DataFrame({'id': test_df.id, 'is_iceberg': preds.reshape(preds.shape[0])})\n",
    "print(submission.head(10))\n",
    "submission.to_csv(os.path.join('output', 'naive_nn.csv'), index=False)"
   ]
  }
 ],
 "metadata": {
  "kernelspec": {
   "display_name": "Python 3",
   "language": "python",
   "name": "python3"
  },
  "language_info": {
   "codemirror_mode": {
    "name": "ipython",
    "version": 3
   },
   "file_extension": ".py",
   "mimetype": "text/x-python",
   "name": "python",
   "nbconvert_exporter": "python",
   "pygments_lexer": "ipython3",
   "version": "3.6.4"
  }
 },
 "nbformat": 4,
 "nbformat_minor": 1
}
