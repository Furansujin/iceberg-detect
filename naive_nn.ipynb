{
 "cells": [
  {
   "cell_type": "code",
   "execution_count": 1,
   "metadata": {},
   "outputs": [
    {
     "name": "stderr",
     "output_type": "stream",
     "text": [
      "Using TensorFlow backend.\n"
     ]
    }
   ],
   "source": [
    "import pandas as pd\n",
    "import numpy as np\n",
    "import os\n",
    "from sklearn.model_selection import train_test_split\n",
    "from keras import backend as K"
   ]
  },
  {
   "cell_type": "code",
   "execution_count": 2,
   "metadata": {},
   "outputs": [],
   "source": [
    "df = pd.read_json(os.path.join('input', 'train.json'))"
   ]
  },
  {
   "cell_type": "code",
   "execution_count": 3,
   "metadata": {},
   "outputs": [],
   "source": [
    "from sklearn.preprocessing import scale\n",
    "\n",
    "\n",
    "def flat_band_radar_tensors(df_itertup):\n",
    "    b1 = np.array(df_itertup.band_1)\n",
    "    b2 = np.array(df_itertup.band_2)\n",
    "    b3 = (b1 + b2) / 2\n",
    "    flat_img = np.stack([scale(x) for x in (b1, b2, b3)], axis=-1).flatten()\n",
    "    return np.expand_dims(flat_img, axis=0).astype('float32', copy=False)\n",
    "\n",
    "\n",
    "def prepare_4d_tensors_flat(df):\n",
    "    return np.vstack(flat_band_radar_tensors(row) for row in df.itertuples())"
   ]
  },
  {
   "cell_type": "code",
   "execution_count": 4,
   "metadata": {},
   "outputs": [
    {
     "name": "stdout",
     "output_type": "stream",
     "text": [
      "-------TRAIN--------\n",
      "1103 tensors\n",
      "51.13% icebergs\n",
      "\n",
      "-----VALIDATION-----\n",
      "368 tensors\n",
      "51.36% icebergs\n"
     ]
    }
   ],
   "source": [
    "# we drop the missing incidence angles for the base model NN\n",
    "df_missing = df[df.inc_angle != 'na']\n",
    "\n",
    "train_df, valid_df = train_test_split(df_missing, random_state=42, test_size=.25)\n",
    "\n",
    "print('TRAIN'.center(20, '-'))\n",
    "train_tensors = prepare_4d_tensors_flat(train_df)\n",
    "train_targets = train_df.is_iceberg.values\n",
    "assert len(train_tensors) == len(train_targets)\n",
    "print(len(train_tensors), 'tensors')\n",
    "print('{:.2f}% icebergs\\n'.format((train_targets == 1).sum() / len(train_targets) * 100))\n",
    "\n",
    "print('VALIDATION'.center(20, '-'))\n",
    "valid_tensors = prepare_4d_tensors_flat(valid_df)\n",
    "valid_targets = valid_df.is_iceberg.values\n",
    "assert len(valid_tensors) == len(valid_targets)\n",
    "print(len(valid_tensors), 'tensors')\n",
    "print('{:.2f}% icebergs'.format((valid_targets == 1).sum() / len(valid_targets) * 100))\n",
    "\n",
    "assert valid_tensors.shape[1:] == train_tensors.shape[1:]"
   ]
  },
  {
   "cell_type": "markdown",
   "metadata": {},
   "source": [
    "Here we create a fully connected neural network, aka a multi-layer perceptron, as a baseline model to compare our convolutional neural network's performance."
   ]
  },
  {
   "cell_type": "code",
   "execution_count": 82,
   "metadata": {},
   "outputs": [
    {
     "name": "stdout",
     "output_type": "stream",
     "text": [
      "_________________________________________________________________\n",
      "Layer (type)                 Output Shape              Param #   \n",
      "=================================================================\n",
      "dense_30 (Dense)             (None, 1024)              17281024  \n",
      "_________________________________________________________________\n",
      "dense_31 (Dense)             (None, 512)               524800    \n",
      "_________________________________________________________________\n",
      "dense_32 (Dense)             (None, 1)                 513       \n",
      "=================================================================\n",
      "Total params: 17,806,337\n",
      "Trainable params: 17,806,337\n",
      "Non-trainable params: 0\n",
      "_________________________________________________________________\n"
     ]
    }
   ],
   "source": [
    "from keras.layers import Dense, Flatten, Dropout\n",
    "from keras.models import Sequential \n",
    "# from keras.layers import Dropout, BatchNormalization\n",
    "# from keras.models import Model, Sequential, Input\n",
    "\n",
    "dense_model = Sequential()\n",
    "\n",
    "dense_model.add(Dense(1024, activation='relu', input_shape=train_tensors.shape[1:]))\n",
    "dense_model.add(Dense(512, activation='relu'))\n",
    "dense_model.add(Dense(1, activation='sigmoid'))\n",
    "\n",
    "dense_model.summary()"
   ]
  },
  {
   "cell_type": "code",
   "execution_count": 83,
   "metadata": {},
   "outputs": [],
   "source": [
    "from keras.callbacks import EarlyStopping, ModelCheckpoint, ReduceLROnPlateau\n",
    "\n",
    "version = 3.1\n",
    "model_name = 'naive_nn_v{}'.format(version)\n",
    "weights_name = '{}.best.weights.hdf5'.format(model_name.replace('_', '.'))\n",
    "\n",
    "early_stop = EarlyStopping(monitor='val_loss', verbose=1, patience=10)\n",
    "save_best = ModelCheckpoint(filepath=os.path.join('saved_models', weights_name), \n",
    "                            save_best_only=True, save_weights_only=True, verbose=1)\n",
    "reduce_lr = ReduceLROnPlateau(monitor='val_loss', factor=0.1,\n",
    "                              patience=3, min_lr=0.000000001, verbose=1)\n",
    "\n",
    "epochs = 100"
   ]
  },
  {
   "cell_type": "code",
   "execution_count": 84,
   "metadata": {},
   "outputs": [],
   "source": [
    "dense_model.compile(loss='binary_crossentropy', optimizer='adam', metrics=['accuracy'])"
   ]
  },
  {
   "cell_type": "code",
   "execution_count": 85,
   "metadata": {
    "scrolled": false
   },
   "outputs": [
    {
     "name": "stdout",
     "output_type": "stream",
     "text": [
      "Train on 1103 samples, validate on 368 samples\n",
      "Epoch 1/100\n",
      "1088/1103 [============================>.] - ETA: 0s - loss: 0.9797 - acc: 0.6489\n",
      "Epoch 00001: val_loss improved from inf to 0.75344, saving model to saved_models\\naive.nn.v3.1.best.weights.hdf5\n",
      "1103/1103 [==============================] - 3s 2ms/step - loss: 0.9701 - acc: 0.6519 - val_loss: 0.7534 - val_acc: 0.7092\n",
      "Epoch 2/100\n",
      "1088/1103 [============================>.] - ETA: 0s - loss: 0.1351 - acc: 0.9577\n",
      "Epoch 00002: val_loss improved from 0.75344 to 0.72213, saving model to saved_models\\naive.nn.v3.1.best.weights.hdf5\n",
      "1103/1103 [==============================] - 1s 912us/step - loss: 0.1340 - acc: 0.9583 - val_loss: 0.7221 - val_acc: 0.7283\n",
      "Epoch 3/100\n",
      "1088/1103 [============================>.] - ETA: 0s - loss: 0.0277 - acc: 0.9908\n",
      "Epoch 00003: val_loss improved from 0.72213 to 0.64015, saving model to saved_models\\naive.nn.v3.1.best.weights.hdf5\n",
      "1103/1103 [==============================] - 1s 926us/step - loss: 0.0274 - acc: 0.9909 - val_loss: 0.6401 - val_acc: 0.7717\n",
      "Epoch 4/100\n",
      "1088/1103 [============================>.] - ETA: 0s - loss: 0.0075 - acc: 0.9963\n",
      "Epoch 00004: val_loss did not improve\n",
      "1103/1103 [==============================] - 1s 728us/step - loss: 0.0074 - acc: 0.9964 - val_loss: 0.7159 - val_acc: 0.7663\n",
      "Epoch 5/100\n",
      "1056/1103 [===========================>..] - ETA: 0s - loss: 0.0094 - acc: 0.9991\n",
      "Epoch 00005: val_loss did not improve\n",
      "1103/1103 [==============================] - 1s 711us/step - loss: 0.0091 - acc: 0.9991 - val_loss: 0.6669 - val_acc: 0.7717\n",
      "Epoch 6/100\n",
      "1088/1103 [============================>.] - ETA: 0s - loss: 0.0247 - acc: 0.9945\n",
      "Epoch 00006: val_loss did not improve\n",
      "1103/1103 [==============================] - 1s 713us/step - loss: 0.0244 - acc: 0.9946 - val_loss: 0.7031 - val_acc: 0.7690\n",
      "Epoch 7/100\n",
      "1056/1103 [===========================>..] - ETA: 0s - loss: 0.0061 - acc: 0.9991\n",
      "Epoch 00007: val_loss did not improve\n",
      "\n",
      "Epoch 00007: ReduceLROnPlateau reducing learning rate to 0.00010000000474974513.\n",
      "1103/1103 [==============================] - 1s 876us/step - loss: 0.0058 - acc: 0.9991 - val_loss: 0.8120 - val_acc: 0.7745\n",
      "Epoch 8/100\n",
      "1088/1103 [============================>.] - ETA: 0s - loss: 0.0039 - acc: 0.9991\n",
      "Epoch 00008: val_loss did not improve\n",
      "1103/1103 [==============================] - 1s 714us/step - loss: 0.0045 - acc: 0.9982 - val_loss: 0.7659 - val_acc: 0.7880\n",
      "Epoch 9/100\n",
      "1088/1103 [============================>.] - ETA: 0s - loss: 1.5018e-04 - acc: 1.0000\n",
      "Epoch 00009: val_loss did not improve\n",
      "1103/1103 [==============================] - 1s 728us/step - loss: 1.4892e-04 - acc: 1.0000 - val_loss: 0.7694 - val_acc: 0.7880\n",
      "Epoch 10/100\n",
      "1056/1103 [===========================>..] - ETA: 0s - loss: 1.3551e-04 - acc: 1.0000\n",
      "Epoch 00010: val_loss did not improve\n",
      "\n",
      "Epoch 00010: ReduceLROnPlateau reducing learning rate to 1.0000000474974514e-05.\n",
      "1103/1103 [==============================] - 1s 749us/step - loss: 1.3370e-04 - acc: 1.0000 - val_loss: 0.7705 - val_acc: 0.7853\n",
      "Epoch 11/100\n",
      "1024/1103 [==========================>...] - ETA: 0s - loss: 1.3033e-04 - acc: 1.0000\n",
      "Epoch 00011: val_loss did not improve\n",
      "1103/1103 [==============================] - 1s 726us/step - loss: 1.2894e-04 - acc: 1.0000 - val_loss: 0.7706 - val_acc: 0.7853\n",
      "Epoch 12/100\n",
      "1024/1103 [==========================>...] - ETA: 0s - loss: 1.3240e-04 - acc: 1.0000\n",
      "Epoch 00012: val_loss did not improve\n",
      "1103/1103 [==============================] - 1s 726us/step - loss: 1.2839e-04 - acc: 1.0000 - val_loss: 0.7706 - val_acc: 0.7853\n",
      "Epoch 13/100\n",
      "1056/1103 [===========================>..] - ETA: 0s - loss: 1.3047e-04 - acc: 1.0000\n",
      "Epoch 00013: val_loss did not improve\n",
      "\n",
      "Epoch 00013: ReduceLROnPlateau reducing learning rate to 1.0000000656873453e-06.\n",
      "1103/1103 [==============================] - 1s 727us/step - loss: 1.2777e-04 - acc: 1.0000 - val_loss: 0.7707 - val_acc: 0.7853\n",
      "Epoch 00013: early stopping\n"
     ]
    }
   ],
   "source": [
    "dense_model.fit(train_tensors, train_targets, epochs=epochs,\n",
    "                callbacks=[early_stop, save_best, reduce_lr], verbose=1,\n",
    "                validation_data=(valid_tensors, valid_targets));"
   ]
  },
  {
   "cell_type": "code",
   "execution_count": 86,
   "metadata": {},
   "outputs": [],
   "source": [
    "dense_model.load_weights(os.path.join('saved_models', weights_name))"
   ]
  },
  {
   "cell_type": "code",
   "execution_count": 87,
   "metadata": {},
   "outputs": [
    {
     "name": "stdout",
     "output_type": "stream",
     "text": [
      "1471/1471 [==============================] - 0s 189us/step\n"
     ]
    }
   ],
   "source": [
    "train_eval = dense_model.evaluate(prepare_4d_tensors_flat(df_missing), df_missing.is_iceberg.values)"
   ]
  },
  {
   "cell_type": "code",
   "execution_count": 88,
   "metadata": {},
   "outputs": [
    {
     "name": "stdout",
     "output_type": "stream",
     "text": [
      "---------metrics on all tensors---------\n",
      "binary_crossentropy      = 0.1657\n",
      "accuracy                 = 94.086%\n"
     ]
    }
   ],
   "source": [
    "print('metrics on all tensors'.center(40, '-'))\n",
    "print(dense_model.loss.ljust(len(dense_model.loss)+5), '=', round(train_eval[0], 6))\n",
    "print(dense_model.metrics[0].ljust(len(dense_model.loss)+5), '=', '{:2.3f}%'.format(train_eval[1]*100))"
   ]
  },
  {
   "cell_type": "code",
   "execution_count": 16,
   "metadata": {},
   "outputs": [],
   "source": [
    "test_df = pd.read_json(os.path.join('input', 'test.json'))"
   ]
  },
  {
   "cell_type": "code",
   "execution_count": 17,
   "metadata": {},
   "outputs": [],
   "source": [
    "test_tensors = prepare_4d_tensors_flat(test_df)"
   ]
  },
  {
   "cell_type": "code",
   "execution_count": 89,
   "metadata": {},
   "outputs": [],
   "source": [
    "preds = dense_model.predict(test_tensors)"
   ]
  },
  {
   "cell_type": "code",
   "execution_count": 93,
   "metadata": {},
   "outputs": [
    {
     "data": {
      "image/png": "[encoded data removed]",
      "text/plain": [
       "<matplotlib.figure.Figure at 0x1e6a00c8b38>"
      ]
     },
     "metadata": {},
     "output_type": "display_data"
    }
   ],
   "source": [
    "import seaborn as sns\n",
    "%matplotlib inline\n",
    "\n",
    "x_label = model_name + ' | iceberg probability'\n",
    "ax = sns.distplot(preds, axlabel=x_label, label='TEST', bins=50, kde=False)"
   ]
  },
  {
   "cell_type": "code",
   "execution_count": 94,
   "metadata": {},
   "outputs": [
    {
     "name": "stdout",
     "output_type": "stream",
     "text": [
      "         id  is_iceberg\n",
      "0  5941774d    0.025396\n",
      "1  4023181e    0.998785\n",
      "2  b20200e4    0.999968\n",
      "3  e7f018bb    0.999410\n",
      "4  4371c8c3    0.999972\n"
     ]
    }
   ],
   "source": [
    "submission = pd.DataFrame({'id': test_df.id, 'is_iceberg': preds.reshape(preds.shape[0])})\n",
    "print(submission.head())"
   ]
  },
  {
   "cell_type": "code",
   "execution_count": 95,
   "metadata": {},
   "outputs": [],
   "source": [
    "submission.to_csv(os.path.join('output', '{}.csv'.format(model_name)), index=False)"
   ]
  }
 ],
 "metadata": {
  "kernelspec": {
   "display_name": "Python 3",
   "language": "python",
   "name": "python3"
  },
  "language_info": {
   "codemirror_mode": {
    "name": "ipython",
    "version": 3
   },
   "file_extension": ".py",
   "mimetype": "text/x-python",
   "name": "python",
   "nbconvert_exporter": "python",
   "pygments_lexer": "ipython3",
   "version": "3.6.4"
  }
 },
 "nbformat": 4,
 "nbformat_minor": 1
}
